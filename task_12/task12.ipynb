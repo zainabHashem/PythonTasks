{
  "nbformat": 4,
  "nbformat_minor": 0,
  "metadata": {
    "colab": {
      "provenance": []
    },
    "kernelspec": {
      "name": "python3",
      "display_name": "Python 3"
    },
    "language_info": {
      "name": "python"
    }
  },
  "cells": [
    {
      "cell_type": "code",
      "execution_count": 1,
      "metadata": {
        "id": "82PchgUXi4VJ"
      },
      "outputs": [],
      "source": [
        "import pandas as pd\n",
        "import numpy as np\n",
        "# Read csv file\n",
        "df = pd.read_csv('/nba.csv')"
      ]
    },
    {
      "cell_type": "code",
      "source": [
        "#print first 5 rows\n",
        "print(df.head())"
      ],
      "metadata": {
        "colab": {
          "base_uri": "https://localhost:8080/"
        },
        "id": "UTU829Tbkg1e",
        "outputId": "0e5d077e-bba0-4743-9eea-5a4dbbc2dd00"
      },
      "execution_count": 2,
      "outputs": [
        {
          "output_type": "stream",
          "name": "stdout",
          "text": [
            "            Name            Team  Number Position   Age Height  Weight  \\\n",
            "0  Avery Bradley  Boston Celtics     0.0       PG  25.0    6-2   180.0   \n",
            "1    Jae Crowder  Boston Celtics    99.0       SF  25.0    6-6   235.0   \n",
            "2   John Holland  Boston Celtics    30.0       SG  27.0    6-5   205.0   \n",
            "3    R.J. Hunter  Boston Celtics    28.0       SG  22.0    6-5   185.0   \n",
            "4  Jonas Jerebko  Boston Celtics     8.0       PF  29.0   6-10   231.0   \n",
            "\n",
            "             College     Salary  \n",
            "0              Texas  7730337.0  \n",
            "1          Marquette  6796117.0  \n",
            "2  Boston University        NaN  \n",
            "3      Georgia State  1148640.0  \n",
            "4                NaN  5000000.0  \n"
          ]
        }
      ]
    },
    {
      "cell_type": "code",
      "source": [
        "#print shape\n",
        "print(df.shape)"
      ],
      "metadata": {
        "colab": {
          "base_uri": "https://localhost:8080/"
        },
        "id": "Ybkzcb5_kqTK",
        "outputId": "438580e2-fef2-4ac3-8679-3fd0d0bf515d"
      },
      "execution_count": 3,
      "outputs": [
        {
          "output_type": "stream",
          "name": "stdout",
          "text": [
            "(458, 9)\n"
          ]
        }
      ]
    },
    {
      "cell_type": "code",
      "source": [
        "#print statistical summary\n",
        "print(df.describe())"
      ],
      "metadata": {
        "colab": {
          "base_uri": "https://localhost:8080/"
        },
        "id": "RRTrPpjtlBAs",
        "outputId": "c3726488-50a6-4c07-da07-04efc7c2c82b"
      },
      "execution_count": 4,
      "outputs": [
        {
          "output_type": "stream",
          "name": "stdout",
          "text": [
            "           Number         Age      Weight        Salary\n",
            "count  457.000000  457.000000  457.000000  4.460000e+02\n",
            "mean    17.678337   26.938731  221.522976  4.842684e+06\n",
            "std     15.966090    4.404016   26.368343  5.229238e+06\n",
            "min      0.000000   19.000000  161.000000  3.088800e+04\n",
            "25%      5.000000   24.000000  200.000000  1.044792e+06\n",
            "50%     13.000000   26.000000  220.000000  2.839073e+06\n",
            "75%     25.000000   30.000000  240.000000  6.500000e+06\n",
            "max     99.000000   40.000000  307.000000  2.500000e+07\n"
          ]
        }
      ]
    },
    {
      "cell_type": "code",
      "source": [
        "#print num of nulls\n",
        "print(df.info())   ###we find (college) contain 84 null values,(salary) contain 11 null values"
      ],
      "metadata": {
        "colab": {
          "base_uri": "https://localhost:8080/"
        },
        "id": "9TifcbM5lJts",
        "outputId": "0a4c8224-38f7-4ac1-8b3b-76ad19b5e43e"
      },
      "execution_count": 5,
      "outputs": [
        {
          "output_type": "stream",
          "name": "stdout",
          "text": [
            "<class 'pandas.core.frame.DataFrame'>\n",
            "RangeIndex: 458 entries, 0 to 457\n",
            "Data columns (total 9 columns):\n",
            " #   Column    Non-Null Count  Dtype  \n",
            "---  ------    --------------  -----  \n",
            " 0   Name      457 non-null    object \n",
            " 1   Team      457 non-null    object \n",
            " 2   Number    457 non-null    float64\n",
            " 3   Position  457 non-null    object \n",
            " 4   Age       457 non-null    float64\n",
            " 5   Height    457 non-null    object \n",
            " 6   Weight    457 non-null    float64\n",
            " 7   College   373 non-null    object \n",
            " 8   Salary    446 non-null    float64\n",
            "dtypes: float64(4), object(5)\n",
            "memory usage: 32.3+ KB\n",
            "None\n"
          ]
        }
      ]
    },
    {
      "cell_type": "code",
      "source": [
        "#find duplicated\n",
        "df.duplicated() ###we find that there are no duplicate"
      ],
      "metadata": {
        "colab": {
          "base_uri": "https://localhost:8080/"
        },
        "id": "IeftiqYKlVPe",
        "outputId": "2584c69d-cd80-4071-8740-0feea81adc0b"
      },
      "execution_count": 6,
      "outputs": [
        {
          "output_type": "execute_result",
          "data": {
            "text/plain": [
              "0      False\n",
              "1      False\n",
              "2      False\n",
              "3      False\n",
              "4      False\n",
              "       ...  \n",
              "453    False\n",
              "454    False\n",
              "455    False\n",
              "456    False\n",
              "457    False\n",
              "Length: 458, dtype: bool"
            ]
          },
          "metadata": {},
          "execution_count": 6
        }
      ]
    },
    {
      "cell_type": "code",
      "source": [
        "#cleaning\n",
        "df['College'].fillna('Unknown', inplace=True)\n",
        "df['Salary'].fillna(df['Salary'].median(), inplace=True)"
      ],
      "metadata": {
        "id": "a1e1Fk_rmehJ"
      },
      "execution_count": 7,
      "outputs": []
    },
    {
      "cell_type": "code",
      "source": [
        "#convert height to cm\n",
        "df['foot'] = pd.to_numeric(df['Height'].str.split('-').str[0], errors='coerce')\n",
        "df['inches'] = pd.to_numeric(df['Height'].str.split('-').str[1], errors='coerce')\n",
        "df['CM_Height'] = df['foot'] * 30 + df['inches'] * 2.5\n",
        "df = df.drop(['foot', 'inches'], axis=1)"
      ],
      "metadata": {
        "id": "JboTcex8ow1A"
      },
      "execution_count": 8,
      "outputs": []
    },
    {
      "cell_type": "code",
      "source": [
        "#check if any nulls after convert\n",
        "print(df.info())"
      ],
      "metadata": {
        "colab": {
          "base_uri": "https://localhost:8080/"
        },
        "id": "pSR_PgNirJ4W",
        "outputId": "67ecba91-31b4-4318-977f-a99ae1d2b556"
      },
      "execution_count": 9,
      "outputs": [
        {
          "output_type": "stream",
          "name": "stdout",
          "text": [
            "<class 'pandas.core.frame.DataFrame'>\n",
            "RangeIndex: 458 entries, 0 to 457\n",
            "Data columns (total 10 columns):\n",
            " #   Column     Non-Null Count  Dtype  \n",
            "---  ------     --------------  -----  \n",
            " 0   Name       457 non-null    object \n",
            " 1   Team       457 non-null    object \n",
            " 2   Number     457 non-null    float64\n",
            " 3   Position   457 non-null    object \n",
            " 4   Age        457 non-null    float64\n",
            " 5   Height     457 non-null    object \n",
            " 6   Weight     457 non-null    float64\n",
            " 7   College    458 non-null    object \n",
            " 8   Salary     458 non-null    float64\n",
            " 9   CM_Height  457 non-null    float64\n",
            "dtypes: float64(5), object(5)\n",
            "memory usage: 35.9+ KB\n",
            "None\n"
          ]
        }
      ]
    },
    {
      "cell_type": "code",
      "source": [
        "print(df.head())"
      ],
      "metadata": {
        "colab": {
          "base_uri": "https://localhost:8080/"
        },
        "id": "_8Rk53Kbtt-c",
        "outputId": "5d3c0f72-f8ec-471e-c313-4d14334adcd6"
      },
      "execution_count": 10,
      "outputs": [
        {
          "output_type": "stream",
          "name": "stdout",
          "text": [
            "            Name            Team  Number Position   Age Height  Weight  \\\n",
            "0  Avery Bradley  Boston Celtics     0.0       PG  25.0    6-2   180.0   \n",
            "1    Jae Crowder  Boston Celtics    99.0       SF  25.0    6-6   235.0   \n",
            "2   John Holland  Boston Celtics    30.0       SG  27.0    6-5   205.0   \n",
            "3    R.J. Hunter  Boston Celtics    28.0       SG  22.0    6-5   185.0   \n",
            "4  Jonas Jerebko  Boston Celtics     8.0       PF  29.0   6-10   231.0   \n",
            "\n",
            "             College     Salary  CM_Height  \n",
            "0              Texas  7730337.0      185.0  \n",
            "1          Marquette  6796117.0      195.0  \n",
            "2  Boston University  2839073.0      192.5  \n",
            "3      Georgia State  1148640.0      192.5  \n",
            "4            Unknown  5000000.0      205.0  \n"
          ]
        }
      ]
    },
    {
      "cell_type": "code",
      "source": [
        "#player with highest salary\n",
        "highest = df.loc[df['Salary'].idxmax(), 'Name']\n",
        "print(f\" player with the highest salary is: {highest}\")"
      ],
      "metadata": {
        "colab": {
          "base_uri": "https://localhost:8080/"
        },
        "id": "LCNYAjNit6z5",
        "outputId": "d5ee37fd-7cc1-46e1-9d57-16b85fb84536"
      },
      "execution_count": 11,
      "outputs": [
        {
          "output_type": "stream",
          "name": "stdout",
          "text": [
            " player with the highest salary is: Kobe Bryant\n"
          ]
        }
      ]
    },
    {
      "cell_type": "code",
      "source": [
        "#avg salary\n",
        "print(f\"average salary is: {df['Salary'].mean()}\")"
      ],
      "metadata": {
        "colab": {
          "base_uri": "https://localhost:8080/"
        },
        "id": "RsP5fHCUuVgc",
        "outputId": "e2fe6292-9199-4169-b790-821a574c3296"
      },
      "execution_count": 12,
      "outputs": [
        {
          "output_type": "stream",
          "name": "stdout",
          "text": [
            "average salary is: 4790187.744541485\n"
          ]
        }
      ]
    },
    {
      "cell_type": "code",
      "source": [
        "#avg salary each team\n",
        "team_avg_salary = df.groupby('Team')['Salary'].mean().sort_values(ascending=False)\n",
        "print(\"average salary for each team \")\n",
        "print(team_avg_salary)"
      ],
      "metadata": {
        "colab": {
          "base_uri": "https://localhost:8080/"
        },
        "id": "6iiJqaoQvvMP",
        "outputId": "169c16e4-05be-491e-f6e1-182130b2a9a4"
      },
      "execution_count": 13,
      "outputs": [
        {
          "output_type": "stream",
          "name": "stdout",
          "text": [
            "average salary for each team \n",
            "Team\n",
            "Cleveland Cavaliers       7.321851e+06\n",
            "Los Angeles Clippers      6.323643e+06\n",
            "Oklahoma City Thunder     6.251020e+06\n",
            "Golden State Warriors     5.924600e+06\n",
            "Miami Heat                5.879588e+06\n",
            "Chicago Bulls             5.785559e+06\n",
            "San Antonio Spurs         5.629516e+06\n",
            "Charlotte Hornets         5.222728e+06\n",
            "Washington Wizards        5.088576e+06\n",
            "Houston Rockets           5.018868e+06\n",
            "Memphis Grizzlies         4.883732e+06\n",
            "Atlanta Hawks             4.860197e+06\n",
            "Los Angeles Lakers        4.784695e+06\n",
            "Sacramento Kings          4.778911e+06\n",
            "Dallas Mavericks          4.746582e+06\n",
            "Toronto Raptors           4.741174e+06\n",
            "New York Knicks           4.581494e+06\n",
            "Detroit Pistons           4.477884e+06\n",
            "Minnesota Timberwolves    4.467769e+06\n",
            "Indiana Pacers            4.450122e+06\n",
            "New Orleans Pelicans      4.355304e+06\n",
            "Milwaukee Bucks           4.350220e+06\n",
            "Orlando Magic             4.297248e+06\n",
            "Phoenix Suns              4.229676e+06\n",
            "Utah Jazz                 4.204006e+06\n",
            "Denver Nuggets            4.197400e+06\n",
            "Boston Celtics            4.092009e+06\n",
            "Brooklyn Nets             3.501898e+06\n",
            "Portland Trail Blazers    3.220121e+06\n",
            "Philadelphia 76ers        2.255464e+06\n",
            "Name: Salary, dtype: float64\n"
          ]
        }
      ]
    },
    {
      "cell_type": "code",
      "source": [
        "#diff between tallest and shortest player\n",
        "t = df['CM_Height'].max()\n",
        "sh = df['CM_Height'].min()\n",
        "diff = t - sh\n",
        "print(f\"difference between the tallest ({t}) and shortest ({sh}) player is: ({diff}) cm\")"
      ],
      "metadata": {
        "colab": {
          "base_uri": "https://localhost:8080/"
        },
        "id": "zVbgUv85wOXC",
        "outputId": "8629539c-3add-44c4-c277-1fae276f9701"
      },
      "execution_count": 14,
      "outputs": [
        {
          "output_type": "stream",
          "name": "stdout",
          "text": [
            "difference between the tallest (217.5) and shortest (172.5) player is: (45.0) cm\n"
          ]
        }
      ]
    },
    {
      "cell_type": "code",
      "source": [],
      "metadata": {
        "id": "5QJBL8ATxPb3"
      },
      "execution_count": 14,
      "outputs": []
    }
  ]
}